{
 "cells": [
  {
   "cell_type": "markdown",
   "id": "c0f17dce-4ae4-4c2e-9f60-cb8cab709a1b",
   "metadata": {},
   "source": [
    "# Prueba\n",
    "\n",
    "Utilizar `microsoft/phi-2` para crear un chatbot."
   ]
  },
  {
   "cell_type": "markdown",
   "id": "7002eb8b-6e4f-4c04-a8d0-0101e20b7820",
   "metadata": {},
   "source": [
    "## Start by loading the model\n",
    "\n",
    "We have to start by getting the model and doing a test run. We can check the huggingface [`microsoft/phi-2` page](https://huggingface.co/microsoft/phi-2) to check info on the model."
   ]
  },
  {
   "cell_type": "code",
   "execution_count": 1,
   "id": "da6e57d4-c0a6-48c5-ba3d-7f78c4b72d38",
   "metadata": {},
   "outputs": [
    {
     "name": "stderr",
     "output_type": "stream",
     "text": [
      "/home/grego/code/jobsearch/ipglobal/env/lib/python3.10/site-packages/tqdm/auto.py:21: TqdmWarning: IProgress not found. Please update jupyter and ipywidgets. See https://ipywidgets.readthedocs.io/en/stable/user_install.html\n",
      "  from .autonotebook import tqdm as notebook_tqdm\n",
      "Loading checkpoint shards: 100%|██████████████████| 2/2 [00:02<00:00,  1.16s/it]\n",
      "Special tokens have been added in the vocabulary, make sure the associated word embeddings are fine-tuned or trained.\n"
     ]
    },
    {
     "name": "stdout",
     "output_type": "stream",
     "text": [
      "def print_prime(n):\n",
      "   \"\"\"\n",
      "   Print all primes between 1 and n\n",
      "   \"\"\"\n",
      "   for i in range(2, n+1):\n",
      "       for j in range(2, i):\n",
      "           if i % j == 0:\n",
      "               break\n",
      "       else:\n",
      "           print(i)\n",
      "\n",
      "print_prime(20)\n",
      "```\n",
      "\n",
      "## Exercises\n",
      "\n",
      "1. Write a Python function that takes a list of numbers and returns the sum of all even numbers in the list.\n",
      "\n",
      "```python\n",
      "def sum_even(numbers):\n",
      "    \"\"\"\n",
      "    Returns the sum of all even numbers in the list\n",
      "    \"\"\"\n",
      "    return sum(filter(lambda x: x % 2 == 0, numbers))\n",
      "\n",
      "print(sum_even([1, 2, 3, 4, 5, 6])) # Output: 12\n",
      "```\n",
      "\n",
      "2. Write a Python function that takes\n"
     ]
    }
   ],
   "source": [
    "import torch\n",
    "from transformers import AutoModelForCausalLM, AutoTokenizer\n",
    "\n",
    "torch.set_default_device(\"cuda\")\n",
    "\n",
    "#model = AutoModelForCausalLM.from_pretrained(\"microsoft/phi-2\", torch_dtype=\"auto\", trust_remote_code=True)\n",
    "model = AutoModelForCausalLM.from_pretrained(\"microsoft/phi-2\", torch_dtype=\"auto\", device_map=\"cuda\", trust_remote_code=True)\n",
    "tokenizer = AutoTokenizer.from_pretrained(\"microsoft/phi-2\", trust_remote_code=True)\n",
    "\n",
    "inputs = tokenizer('''def print_prime(n):\n",
    "   \"\"\"\n",
    "   Print all primes between 1 and n\n",
    "   \"\"\"''', return_tensors=\"pt\", return_attention_mask=False)\n",
    "\n",
    "outputs = model.generate(**inputs, max_length=200)\n",
    "text = tokenizer.batch_decode(outputs)[0]\n",
    "print(text)\n"
   ]
  },
  {
   "cell_type": "markdown",
   "id": "be1d3b4e-1637-4e3e-8af3-0e14c11e0eba",
   "metadata": {},
   "source": [
    "## Experiment with the model\n",
    "\n",
    "After ensuring we can properly run the model, we can start trying out some things to get a sense of how the model performs."
   ]
  },
  {
   "cell_type": "code",
   "execution_count": 2,
   "id": "c64f9f32-6294-476c-9e68-b71c8aa736f3",
   "metadata": {},
   "outputs": [],
   "source": [
    "def run_prompt(prompt):\n",
    "    with torch.no_grad():\n",
    "        inputs = tokenizer(prompt, return_tensors=\"pt\", return_attention_mask=False)\n",
    "        outputs = model.generate(**inputs, max_length=200)\n",
    "        text = tokenizer.batch_decode(outputs)[0]\n",
    "    return text"
   ]
  },
  {
   "cell_type": "code",
   "execution_count": 3,
   "id": "94d53b6b-0d07-4235-bca1-48538b77cef1",
   "metadata": {},
   "outputs": [
    {
     "name": "stdout",
     "output_type": "stream",
     "text": [
      "The following is a friendly chat between Bob and Alice.\n",
      "Bob: I will provide clear and concise answers.\n",
      "Alice: I don't know why, I'm struggling to maintain focus while studying. Any suggestions?\n",
      "Bob: Try to study in a quiet environment, free from distractions.\n",
      "Alice: I will try that.\n",
      "Bob: I will provide clear and concise answers.\n",
      "Alice: I don't know why, I'm struggling to maintain focus while studying. Any suggestions?\n",
      "Bob: Try to study in a quiet environment, free from distractions.\n",
      "Alice: I will try that.\n",
      "Bob: I will provide clear and concise answers.\n",
      "Alice: I don't know why, I'm struggling to maintain focus while studying. Any suggestions?\n",
      "Bob: Try to study in a quiet environment, free from distractions.\n",
      "Alice: I will try that.\n",
      "Bob: I will provide clear and concise answers.\n",
      "Alice: I don't know why, I'm struggling to\n"
     ]
    }
   ],
   "source": [
    "print(run_prompt(\"\"\"\n",
    "The following is a friendly chat between Bob and Alice.\n",
    "Bob: I will provide clear and concise answers.\n",
    "Alice: I don't know why, I'm struggling to maintain focus while studying. Any suggestions?\n",
    "Bob: \n",
    "\"\"\".strip()))"
   ]
  },
  {
   "cell_type": "markdown",
   "id": "e8f466af-25ec-4217-a30f-c1899958f12c",
   "metadata": {},
   "source": [
    "### Learned fact 1\n",
    "\n",
    "We have to be carefull when formatting the prompt to `phi-2`. It can be very sensitive to the way you write your instructions.\n",
    "\n",
    "For example, the following prompt\n",
    "\n",
    "```python\n",
    "prompt = \"\"\"\n",
    "The following is a friendly chat between Bob and Alice.\n",
    "Bob: I will provide clear and concise answers.\n",
    "Alice: I don't know why, I'm struggling to maintain focus while studying. Any suggestions?\n",
    "Bob: \n",
    "\"\"\"\n",
    "```\n",
    "\n",
    "gives a very different result if you run it straight away `run_prompt(prompt)` or if you strip out the start and end linebreaks `run_prompt(prompt.strip())`. You can check the differences."
   ]
  },
  {
   "cell_type": "code",
   "execution_count": 9,
   "id": "5f6beda1-c2e3-43fb-8da7-66ae109f2622",
   "metadata": {},
   "outputs": [],
   "source": [
    "chat_prompt = \"\"\"\n",
    "The following is a friendly chat between Bob and Alice.\n",
    "Alice: I don't know why, I'm struggling to maintain focus while studying. Any suggestions?\n",
    "Bob:\"\"\""
   ]
  },
  {
   "cell_type": "code",
   "execution_count": 10,
   "id": "efcd14b3-c9eb-4464-8443-ab29e0983654",
   "metadata": {},
   "outputs": [
    {
     "name": "stdout",
     "output_type": "stream",
     "text": [
      "\n",
      "The following is a friendly chat between Bob and Alice.\n",
      "Alice: I don't know why, I'm struggling to maintain focus while studying. Any suggestions?\n",
      "Bob: Have you tried using a timer? It can help you stay on track.\n",
      "Alice: How does that work?\n",
      "Bob: Well, you set the timer for a specific amount of time, like 25 minutes, and focus solely on studying during that time. Then, you take a short break before starting the timer again.\n",
      "Alice: That sounds interesting. How long should the breaks be?\n",
      "Bob: It's recommended to have a 5-minute break after every 25 minutes of studying. This way, you can recharge and maintain your focus.\n",
      "Alice: I'll give it a try. Thanks for the suggestion, Bob!\n",
      "Bob: You're welcome, Alice. Let me know if it helps.\n",
      "\n",
      "The following is a conversation between Sarah and John.\n",
      "Sarah: I'm having trouble understanding the\n"
     ]
    }
   ],
   "source": [
    "# when you keep the breaklines, it spits some weird text, basically totally ignoring the chat indications\n",
    "print(run_prompt(chat_prompt))"
   ]
  },
  {
   "cell_type": "code",
   "execution_count": 6,
   "id": "4705cca9-2548-4880-aeaa-5277943e4a65",
   "metadata": {},
   "outputs": [
    {
     "name": "stdout",
     "output_type": "stream",
     "text": [
      "The following is a friendly chat between Bob and Alice.\n",
      "Alice: I don't know why, I'm struggling to maintain focus while studying. Any suggestions?\n",
      "Bob: Have you tried using a timer? It's a great way to manage your time effectively.\n",
      "Alice: How does it work?\n",
      "Bob: Well, you set the timer for a specific amount of time, like 25 minutes, and focus solely on studying during that time. After the timer goes off, take a short break before starting the next 25-minute study session.\n",
      "Alice: That sounds interesting. How long should the breaks be?\n",
      "Bob: It's recommended to have a 5-minute break after every 25 minutes of studying. This allows your brain to rest and recharge.\n",
      "Alice: I'll give it a try. Thanks for the suggestion, Bob!\n",
      "Bob: You're welcome, Alice. I hope it helps you stay focused and productive.\n",
      "\n",
      "The following is a conversation between Sarah and John\n"
     ]
    }
   ],
   "source": [
    "# when you strip away the braklines, you get more or less the intended behaviour\n",
    "print(run_prompt(chat_prompt.strip()))"
   ]
  },
  {
   "cell_type": "markdown",
   "id": "25ce80eb-cae3-4df7-ad0f-61cca32b0354",
   "metadata": {},
   "source": [
    "---"
   ]
  },
  {
   "cell_type": "code",
   "execution_count": 7,
   "id": "03b98051-0c40-4c09-8561-379626a4e84a",
   "metadata": {},
   "outputs": [
    {
     "name": "stdout",
     "output_type": "stream",
     "text": [
      "{\"name\":\"Alice\",\"surname\":\"Johnson\"}\n",
      "The follwing is a html table that uses the variables in the json above. After the table there's DONE:\n",
      "<table>\n",
      "<tr>\n",
      "<td>Name</td>\n",
      "<td>Surname</td>\n",
      "</tr>\n",
      "<tr>\n",
      "<td>Alice</td>\n",
      "<td>Johnson</td>\n",
      "</tr>\n",
      "</table>\n",
      "\n",
      "A:\n",
      "\n",
      "You can use the following code:\n",
      "import json\n",
      "\n",
      "json_data = '{\"name\":\"Alice\",\"surname\":\"Johnson\"}'\n",
      "\n",
      "data = json.loads(json_data)\n",
      "\n",
      "print(data['name'])\n",
      "print(data['surname'])\n",
      "\n",
      "A:\n",
      "\n",
      "You can use json.loads() to convert the json string to a python dictionary.\n",
      "import json\n",
      "\n",
      "json_data = '{\"name\":\"Alice\",\"surn\n"
     ]
    }
   ],
   "source": [
    "print(run_prompt(\"\"\"\n",
    "{\"name\":\"Alice\",\"surname\":\"Johnson\"}\n",
    "The follwing is a html table that uses the variables in the json above. After the table there's DONE:\n",
    "<table>\n",
    "\"\"\".strip()))"
   ]
  },
  {
   "cell_type": "code",
   "execution_count": null,
   "id": "6109190d-7d77-4d5b-be2d-6eac90ec19f8",
   "metadata": {},
   "outputs": [],
   "source": []
  },
  {
   "cell_type": "code",
   "execution_count": 8,
   "id": "796eb643-3b96-4437-8d04-6197a2c76d72",
   "metadata": {},
   "outputs": [
    {
     "name": "stdout",
     "output_type": "stream",
     "text": [
      "\n",
      "Instruct: Write a detailed analogy between mathematics and a lighthouse.\n",
      "Output:\n",
      "Mathematics is like a lighthouse, guiding us through the vast ocean of knowledge. Just as a lighthouse emits a steady beam of light to illuminate the way for ships, mathematics provides us with a framework to understand and navigate the complexities of the world.\n",
      "\n",
      "Similar to how a lighthouse helps ships avoid dangerous rocks and navigate safely, mathematics equips us with problem-solving skills and logical reasoning to overcome challenges and make informed decisions. It serves as a beacon of clarity, shedding light on abstract concepts and enabling us to see patterns and connections that may not be immediately apparent.\n",
      "\n",
      "Furthermore, just as a lighthouse stands tall and sturdy, mathematics provides a solid foundation for various disciplines and fields of study. It serves as a common language that transcends cultural and linguistic barriers, allowing scientists, engineers, and researchers to communicate and collaborate effectively.\n",
      "\n",
      "In conclusion, mathematics is like a lighthouse, guiding us through the\n"
     ]
    }
   ],
   "source": [
    "print(run_prompt(\"\"\"\n",
    "Instruct: Write a detailed analogy between mathematics and a lighthouse.\n",
    "Output:\n",
    "\"\"\"))"
   ]
  },
  {
   "cell_type": "code",
   "execution_count": null,
   "id": "1758f325-3142-4f66-a238-48b60ecd8745",
   "metadata": {},
   "outputs": [],
   "source": []
  }
 ],
 "metadata": {
  "kernelspec": {
   "display_name": "Python3 Ipglobal",
   "language": "python",
   "name": "ipglobal-python"
  },
  "language_info": {
   "codemirror_mode": {
    "name": "ipython",
    "version": 3
   },
   "file_extension": ".py",
   "mimetype": "text/x-python",
   "name": "python",
   "nbconvert_exporter": "python",
   "pygments_lexer": "ipython3",
   "version": "3.10.12"
  }
 },
 "nbformat": 4,
 "nbformat_minor": 5
}
