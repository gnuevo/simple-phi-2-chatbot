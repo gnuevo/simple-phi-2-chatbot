{
 "cells": [
  {
   "cell_type": "code",
   "execution_count": 1,
   "id": "9fce8476-c4b8-4bff-81fc-78f33ee97530",
   "metadata": {},
   "outputs": [
    {
     "ename": "KeyError",
     "evalue": "'CUDA_VISIBLE_DEVICES'",
     "output_type": "error",
     "traceback": [
      "\u001b[0;31m---------------------------------------------------------------------------\u001b[0m",
      "\u001b[0;31mKeyError\u001b[0m                                  Traceback (most recent call last)",
      "Cell \u001b[0;32mIn[1], line 2\u001b[0m\n\u001b[1;32m      1\u001b[0m \u001b[38;5;28;01mimport\u001b[39;00m \u001b[38;5;21;01mos\u001b[39;00m\n\u001b[0;32m----> 2\u001b[0m \u001b[38;5;28;01mdel\u001b[39;00m os\u001b[38;5;241m.\u001b[39menviron[\u001b[38;5;124m'\u001b[39m\u001b[38;5;124mCUDA_VISIBLE_DEVICES\u001b[39m\u001b[38;5;124m'\u001b[39m]\n",
      "File \u001b[0;32m/usr/lib/python3.10/os.py:696\u001b[0m, in \u001b[0;36m_Environ.__delitem__\u001b[0;34m(self, key)\u001b[0m\n\u001b[1;32m    693\u001b[0m     \u001b[38;5;28;01mdel\u001b[39;00m \u001b[38;5;28mself\u001b[39m\u001b[38;5;241m.\u001b[39m_data[encodedkey]\n\u001b[1;32m    694\u001b[0m \u001b[38;5;28;01mexcept\u001b[39;00m \u001b[38;5;167;01mKeyError\u001b[39;00m:\n\u001b[1;32m    695\u001b[0m     \u001b[38;5;66;03m# raise KeyError with the original key value\u001b[39;00m\n\u001b[0;32m--> 696\u001b[0m     \u001b[38;5;28;01mraise\u001b[39;00m \u001b[38;5;167;01mKeyError\u001b[39;00m(key) \u001b[38;5;28;01mfrom\u001b[39;00m \u001b[38;5;28;01mNone\u001b[39;00m\n",
      "\u001b[0;31mKeyError\u001b[0m: 'CUDA_VISIBLE_DEVICES'"
     ]
    }
   ],
   "source": [
    "import os\n",
    "del os.environ['CUDA_VISIBLE_DEVICES']"
   ]
  },
  {
   "cell_type": "markdown",
   "id": "cbc0e0bb-44cf-4c56-a760-2e962ed333b0",
   "metadata": {},
   "source": [
    "# Simple phi-2 chatbot\n",
    "\n",
    "This is a simple demo that you can use to chat with [microsoft/phi-2](https://huggingface.co/microsoft/phi-2) model. It is based on [this sample code](https://www.gradio.app/guides/creating-a-chatbot-fast#example-using-a-local-open-source-llm-with-hugging-face), but it's been adapted to run phi-2. For more information on changes and adaptations, please consult the README file."
   ]
  },
  {
   "cell_type": "code",
   "execution_count": 1,
   "id": "0261dec7-7ed8-40a9-a34b-f09630d4d5e9",
   "metadata": {},
   "outputs": [
    {
     "name": "stderr",
     "output_type": "stream",
     "text": [
      "/home/grego/code/jobsearch/ipglobal/env/lib/python3.10/site-packages/tqdm/auto.py:21: TqdmWarning: IProgress not found. Please update jupyter and ipywidgets. See https://ipywidgets.readthedocs.io/en/stable/user_install.html\n",
      "  from .autonotebook import tqdm as notebook_tqdm\n"
     ]
    }
   ],
   "source": [
    "import gradio as gr\n",
    "import torch\n",
    "from transformers import AutoModelForCausalLM, AutoTokenizer, StoppingCriteria, StoppingCriteriaList, TextIteratorStreamer\n",
    "from threading import Thread\n",
    "import re"
   ]
  },
  {
   "cell_type": "code",
   "execution_count": 2,
   "id": "420099d3-040c-4dbd-9581-8887ccfe6ae1",
   "metadata": {},
   "outputs": [
    {
     "name": "stderr",
     "output_type": "stream",
     "text": [
      "Loading checkpoint shards: 100%|██████████████████| 2/2 [00:00<00:00,  2.23it/s]\n",
      "Special tokens have been added in the vocabulary, make sure the associated word embeddings are fine-tuned or trained.\n"
     ]
    },
    {
     "name": "stdout",
     "output_type": "stream",
     "text": [
      "Your device is cuda\n"
     ]
    }
   ],
   "source": [
    "device = \"cuda\" if torch.cuda.is_available() else \"cpu\"\n",
    "model = AutoModelForCausalLM.from_pretrained(\"microsoft/phi-2\", device_map=\"auto\", torch_dtype=\"auto\", trust_remote_code=True)\n",
    "tokenizer = AutoTokenizer.from_pretrained(\"microsoft/phi-2\", trust_remote_code=True)\n",
    "\n",
    "print(\"Your device is\", device)"
   ]
  },
  {
   "cell_type": "markdown",
   "id": "f0b642d9-1480-4b20-93a7-cf6f2c6ca5b1",
   "metadata": {},
   "source": [
    "## Configurations\n",
    "\n",
    "Set your preferrend language below. Allowed values are:\n",
    "\n",
    "+ `EN` for English, and\n",
    "+ `ES` for Spanish\n",
    "\n",
    "If the variable is set to any other value, it'll default to English. Mind that as stated on the [model page](https://huggingface.co/microsoft/phi-2), phi2 has been designed to work primarily with English.\n",
    "\n",
    "> Language Limitations: The model is primarily designed to understand standard English. Informal English, slang, or any other languages might pose challenges to its comprehension, leading to potential misinterpretations or errors in response."
   ]
  },
  {
   "cell_type": "code",
   "execution_count": 19,
   "id": "1d241629-5771-47f8-b113-714343dc47a6",
   "metadata": {},
   "outputs": [],
   "source": [
    "LANG = \"EN\" # either EN and ES are valid codes"
   ]
  },
  {
   "cell_type": "code",
   "execution_count": 20,
   "id": "9979197b-1180-4987-a02c-a40abd4e0f07",
   "metadata": {},
   "outputs": [],
   "source": [
    "if LANG == \"ES\":\n",
    "    HUMAN_NAME = \"Usuario\"\n",
    "    BOT_NAME = \"Asistente\"\n",
    "else:\n",
    "    HUMAN_NAME = \"User\"\n",
    "    BOT_NAME = \"Assistant\""
   ]
  },
  {
   "cell_type": "markdown",
   "id": "2a6e20f0-f74c-4f1b-ad8f-6599eee6b0bd",
   "metadata": {},
   "source": [
    "If you want, you can give the model some context using the `CONTEXT` variable. This will be prepended to the whole conversation."
   ]
  },
  {
   "cell_type": "code",
   "execution_count": 25,
   "id": "98b8a2fa-e487-403f-8f67-598db21eba16",
   "metadata": {},
   "outputs": [],
   "source": [
    "if LANG == \"ES\":\n",
    "    CONTEXT = f\"El siguiente texto es una conversación amistosa entre {HUMAN_NAME} y {BOT_NAME} en español.\"\n",
    "else:\n",
    "    CONTEXT = f\"The following is a friendly conversation between {HUMAN_NAME} and {BOT_NAME} in English.\""
   ]
  },
  {
   "cell_type": "markdown",
   "id": "ada949c5-25f4-49f7-91b6-5f8d9cdf13a3",
   "metadata": {},
   "source": [
    "## Run and try the model\n",
    "\n",
    "The following cell contains the main code for the model and runs the Gradio interface."
   ]
  },
  {
   "cell_type": "code",
   "execution_count": 30,
   "id": "03cd3e32-2263-4fe0-acd0-5035edd91f6a",
   "metadata": {},
   "outputs": [
    {
     "name": "stdout",
     "output_type": "stream",
     "text": [
      "Running on local URL:  http://127.0.0.1:7875\n",
      "\n",
      "Thanks for being a Gradio user! If you have questions or feedback, please join our Discord server and chat with us: https://discord.gg/feTf9x3ZSB\n",
      "\n",
      "To create a public link, set `share=True` in `launch()`.\n"
     ]
    },
    {
     "data": {
      "text/html": [
       "<div><iframe src=\"http://127.0.0.1:7875/\" width=\"100%\" height=\"500\" allow=\"autoplay; camera; microphone; clipboard-read; clipboard-write;\" frameborder=\"0\" allowfullscreen></iframe></div>"
      ],
      "text/plain": [
       "<IPython.core.display.HTML object>"
      ]
     },
     "metadata": {},
     "output_type": "display_data"
    },
    {
     "data": {
      "text/plain": []
     },
     "execution_count": 30,
     "metadata": {},
     "output_type": "execute_result"
    }
   ],
   "source": [
    "from typing import List\n",
    "\n",
    "class StopOnTokens(StoppingCriteria):\n",
    "    \"\"\"Stops the model if it produces an 'end of text' token\"\"\"\n",
    "    def __call__(self, input_ids: torch.LongTensor, scores: torch.FloatTensor, **kwargs) -> bool:\n",
    "        stop_ids = [50256] # <|endoftext|>\n",
    "        for stop_id in stop_ids:\n",
    "            if input_ids[0][-1] == stop_id:\n",
    "                return True\n",
    "        return False\n",
    "\n",
    "class StopOnNames(StoppingCriteria):\n",
    "    \"\"\"\n",
    "    Stops the model when it starts hallucinating future turns of the conversation\n",
    "\n",
    "    It stops the token generation when we find a token sequence \"\\n<name>:\", for\n",
    "    example \"\\nUser:\" or \"\\nAssistant:\".\n",
    "    \"\"\"\n",
    "\n",
    "    EOL_TOKEN = 198\n",
    "    COLON_TOKEN = 25\n",
    "    \n",
    "    def __init__(self, tokenized_names: List[List[int]]):\n",
    "        self.tokenized_names = tokenized_names\n",
    "    \n",
    "    def __call__(self, input_ids: torch.LongTensor, scores: torch.FloatTensor, **kwargs) -> bool:\n",
    "        for tokens in self.tokenized_names:\n",
    "            template = [self.EOL_TOKEN, *tokens, self.COLON_TOKEN]\n",
    "            if input_ids[0][-len(template):].tolist() == template:\n",
    "                return True\n",
    "        return False\n",
    "\n",
    "chat_name_pattern_end = r'\\n.+:$' # matches substrings like `\\nUser:` at the end of the string\n",
    "\n",
    "def predict(message, history):\n",
    "    history_transformer_format = history + [[message, \"\"]]\n",
    "    stop_on_tokens = StopOnTokens()\n",
    "    stop_on_names = StopOnNames([tokenizer.encode(HUMAN_NAME), tokenizer.encode(BOT_NAME)])\n",
    "\n",
    "    messages = \"\".join([\"\".join(\n",
    "        [f\"\\n{HUMAN_NAME}:\"+item[0], f\"\\n{BOT_NAME}:\"+item[1]]\n",
    "    ) for item in history_transformer_format]).strip()\n",
    "    messages = CONTEXT + '\\n' + messages\n",
    "\n",
    "    model_inputs = tokenizer([messages], return_tensors=\"pt\").to(device)\n",
    "    streamer = TextIteratorStreamer(tokenizer, timeout=10., skip_prompt=True, skip_special_tokens=True)\n",
    "    generate_kwargs = dict(\n",
    "        model_inputs,\n",
    "        streamer=streamer,\n",
    "        max_new_tokens=256,\n",
    "        do_sample=True,\n",
    "        top_p=0.95,\n",
    "        top_k=1000,\n",
    "        temperature=1.0,\n",
    "        num_beams=1,\n",
    "        stopping_criteria=StoppingCriteriaList([stop_on_tokens, stop_on_names])\n",
    "        )\n",
    "    t = Thread(target=model.generate, kwargs=generate_kwargs)\n",
    "    t.start()\n",
    "\n",
    "    partial_message = \"\"\n",
    "    for new_token in streamer:\n",
    "        partial_message += new_token\n",
    "        match = re.search(chat_name_pattern_end, partial_message)\n",
    "        if match:\n",
    "            partial_message = partial_message[:-len(match.group())]\n",
    "        yield partial_message\n",
    "        \n",
    "gr.ChatInterface(predict).queue().launch()"
   ]
  }
 ],
 "metadata": {
  "kernelspec": {
   "display_name": "Python3 Ipglobal",
   "language": "python",
   "name": "ipglobal-python"
  },
  "language_info": {
   "codemirror_mode": {
    "name": "ipython",
    "version": 3
   },
   "file_extension": ".py",
   "mimetype": "text/x-python",
   "name": "python",
   "nbconvert_exporter": "python",
   "pygments_lexer": "ipython3",
   "version": "3.10.12"
  }
 },
 "nbformat": 4,
 "nbformat_minor": 5
}
